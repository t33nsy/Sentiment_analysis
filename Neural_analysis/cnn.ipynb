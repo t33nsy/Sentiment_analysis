{
 "cells": [
  {
   "cell_type": "code",
   "execution_count": 1,
   "id": "6742aaac",
   "metadata": {},
   "outputs": [],
   "source": [
    "import kagglehub\n",
    "import pandas as pd\n",
    "import numpy as np\n",
    "from sklearn.model_selection import train_test_split\n",
    "from sklearn.preprocessing import LabelEncoder\n",
    "import nltk\n",
    "from nltk.tokenize import word_tokenize"
   ]
  },
  {
   "cell_type": "markdown",
   "id": "f800fd61",
   "metadata": {},
   "source": [
    "Скачиваем необходимые данные для токенизации\n"
   ]
  },
  {
   "cell_type": "code",
   "execution_count": 4,
   "id": "42f3dea7",
   "metadata": {},
   "outputs": [
    {
     "name": "stderr",
     "output_type": "stream",
     "text": [
      "[nltk_data] Downloading package punkt to /home/bastard/nltk_data...\n",
      "[nltk_data]   Package punkt is already up-to-date!\n",
      "[nltk_data] Downloading package punkt_tab to\n",
      "[nltk_data]     /home/bastard/nltk_data...\n",
      "[nltk_data]   Package punkt_tab is already up-to-date!\n"
     ]
    },
    {
     "data": {
      "text/plain": [
       "True"
      ]
     },
     "execution_count": 4,
     "metadata": {},
     "output_type": "execute_result"
    }
   ],
   "source": [
    "nltk.download('punkt')\n",
    "nltk.download('punkt_tab')"
   ]
  },
  {
   "cell_type": "markdown",
   "id": "7dafd8f4",
   "metadata": {},
   "source": [
    "Загружаем датасет"
   ]
  },
  {
   "cell_type": "code",
   "execution_count": null,
   "id": "f5c718b0",
   "metadata": {},
   "outputs": [],
   "source": [
    "path = kagglehub.dataset_download(\"suchintikasarkar/sentiment-analysis-for-mental-health\")\n",
    "df = pd.read_csv(f\"{path}/Combined Data.csv\")"
   ]
  },
  {
   "cell_type": "markdown",
   "id": "9f1fd216",
   "metadata": {},
   "source": [
    "Преобразуем тексты в строковый формат и чистим данные"
   ]
  },
  {
   "cell_type": "code",
   "execution_count": 6,
   "id": "cad5a62b",
   "metadata": {},
   "outputs": [],
   "source": [
    "df['statement'] = df['statement'].astype(str)\n",
    "df = df.dropna(subset=['status']) "
   ]
  },
  {
   "cell_type": "markdown",
   "id": "3f6631af",
   "metadata": {},
   "source": [
    "Преобразуем текстовые метки в числовые"
   ]
  },
  {
   "cell_type": "code",
   "execution_count": 7,
   "id": "f2058a0c",
   "metadata": {},
   "outputs": [],
   "source": [
    "label_encoder = LabelEncoder()\n",
    "df['status'] = label_encoder.fit_transform(df['status'])"
   ]
  },
  {
   "cell_type": "markdown",
   "id": "7df20e03",
   "metadata": {},
   "source": [
    "Подготавливаем данные"
   ]
  },
  {
   "cell_type": "code",
   "execution_count": 8,
   "id": "e209557c",
   "metadata": {},
   "outputs": [],
   "source": [
    "texts = df[\"statement\"].values\n",
    "labels = df[\"status\"].values"
   ]
  },
  {
   "cell_type": "markdown",
   "id": "449e385a",
   "metadata": {},
   "source": [
    "Разделяем на обучающую и тестовую выборки"
   ]
  },
  {
   "cell_type": "code",
   "execution_count": 9,
   "id": "f885df06",
   "metadata": {},
   "outputs": [],
   "source": [
    "train_texts, test_texts, train_labels, test_labels = train_test_split(\n",
    "    texts, labels, test_size=0.2, random_state=42\n",
    ")"
   ]
  },
  {
   "cell_type": "markdown",
   "id": "d2081aeb",
   "metadata": {},
   "source": [
    "Токенизируем тексты"
   ]
  },
  {
   "cell_type": "code",
   "execution_count": 10,
   "id": "ccf9e966",
   "metadata": {},
   "outputs": [],
   "source": [
    "tokenized_texts = [word_tokenize(text.lower()) for text in train_texts]"
   ]
  },
  {
   "cell_type": "markdown",
   "id": "51642184",
   "metadata": {},
   "source": [
    "Обучаем Word2Vec модель"
   ]
  },
  {
   "cell_type": "code",
   "execution_count": 11,
   "id": "6e20d9c0",
   "metadata": {},
   "outputs": [],
   "source": [
    "from gensim.models import Word2Vec\n",
    "word2vec_model = Word2Vec(\n",
    "    sentences=tokenized_texts,\n",
    "    vector_size=300,  # Размерность векторов\n",
    "    window=5,        # Размер окна контекста\n",
    "    min_count=1,     # Минимальная частота слова\n",
    "    workers=4        # Количество потоков\n",
    ")\n",
    "word2vec_model.save(\"word2vec.model\")\n"
   ]
  },
  {
   "cell_type": "markdown",
   "id": "85c5712c",
   "metadata": {},
   "source": [
    "Подготавливаем данные для нейросети"
   ]
  },
  {
   "cell_type": "code",
   "execution_count": 14,
   "id": "b1cb7e0e",
   "metadata": {},
   "outputs": [],
   "source": [
    "from tensorflow.keras.preprocessing.text import Tokenizer\n",
    "from tensorflow.keras.preprocessing.sequence import pad_sequences\n",
    "\n",
    "vocab_size = 10000\n",
    "max_length = 200\n",
    "\n",
    "# Создаем и настраиваем токенизатор\n",
    "tokenizer = Tokenizer(num_words=vocab_size, oov_token=\"<OOV>\")\n",
    "tokenizer.fit_on_texts(train_texts)\n",
    "\n",
    "# Преобразуем тексты в последовательности чисел\n",
    "train_sequences = tokenizer.texts_to_sequences(train_texts)\n",
    "test_sequences = tokenizer.texts_to_sequences(test_texts)\n",
    "\n",
    "# Добавляем паддинг (дополняем нулями до одинаковой длины)\n",
    "train_padded = pad_sequences(train_sequences, maxlen=max_length, padding=\"post\", truncating=\"post\")\n",
    "test_padded = pad_sequences(test_sequences, maxlen=max_length, padding=\"post\", truncating=\"post\")\n"
   ]
  },
  {
   "cell_type": "markdown",
   "id": "50b5894a",
   "metadata": {},
   "source": [
    "Создаем матрицу эмбеддингов"
   ]
  },
  {
   "cell_type": "code",
   "execution_count": 16,
   "id": "602b7ea9",
   "metadata": {},
   "outputs": [],
   "source": [
    "embedding_dim = 300\n",
    "embedding_matrix = np.zeros((vocab_size, embedding_dim))\n",
    "\n",
    "for word, i in tokenizer.word_index.items():\n",
    "    if i < vocab_size and word in word2vec_model.wv:\n",
    "        embedding_matrix[i] = word2vec_model.wv[word]\n"
   ]
  },
  {
   "cell_type": "markdown",
   "id": "480c540e",
   "metadata": {},
   "source": [
    "Строим модель нейросети"
   ]
  },
  {
   "cell_type": "code",
   "execution_count": null,
   "id": "ba3cc8ff",
   "metadata": {},
   "outputs": [],
   "source": [
    "from tensorflow.keras.models import Sequential\n",
    "from tensorflow.keras.layers import Embedding, Conv1D, GlobalMaxPooling1D, Dense, Dropout\n",
    "\n",
    "num_classes = len(label_encoder.classes_)  # Количество уникальных классов\n",
    "\n",
    "model = Sequential([\n",
    "    Embedding(\n",
    "        input_dim=vocab_size,\n",
    "        output_dim=embedding_dim,\n",
    "        input_length=max_length,\n",
    "        weights=[embedding_matrix],\n",
    "        trainable=False\n",
    "    ),\n",
    "    Conv1D(128, 5, activation=\"relu\"),  # Сверточный слой\n",
    "    GlobalMaxPooling1D(),               # Пулинг\n",
    "    Dense(64, activation=\"relu\"),      # Полносвязный слой\n",
    "    Dropout(0.5),                      # Регуляризация\n",
    "    Dense(num_classes, activation=\"softmax\")  # Выходной слой\n",
    "])\n",
    "\n",
    "# Компилируем модель\n",
    "model.compile(\n",
    "    loss=\"sparse_categorical_crossentropy\",\n",
    "    optimizer=\"adam\",\n",
    "    metrics=[\"accuracy\"]\n",
    ")\n",
    "\n",
    "model.summary()"
   ]
  },
  {
   "cell_type": "code",
   "execution_count": null,
   "id": "052720b5",
   "metadata": {},
   "outputs": [],
   "source": [
    "model = tf.keras.models.load_model(\"model_epoch_05.h5\")"
   ]
  },
  {
   "cell_type": "markdown",
   "id": "0f7c8f02",
   "metadata": {},
   "source": [
    "Обучаем модель"
   ]
  },
  {
   "cell_type": "code",
   "execution_count": 19,
   "id": "6191d337",
   "metadata": {},
   "outputs": [
    {
     "name": "stdout",
     "output_type": "stream",
     "text": [
      "Epoch 1/10\n"
     ]
    },
    {
     "name": "stderr",
     "output_type": "stream",
     "text": [
      "WARNING: All log messages before absl::InitializeLog() is called are written to STDERR\n",
      "I0000 00:00:1744948317.544723   37986 service.cc:152] XLA service 0x7f470c005200 initialized for platform CUDA (this does not guarantee that XLA will be used). Devices:\n",
      "I0000 00:00:1744948317.544771   37986 service.cc:160]   StreamExecutor device (0): NVIDIA GeForce RTX 3080, Compute Capability 8.6\n",
      "2025-04-18 06:51:57.572424: I tensorflow/compiler/mlir/tensorflow/utils/dump_mlir_util.cc:269] disabling MLIR crash reproducer, set env var `MLIR_CRASH_REPRODUCER_DIRECTORY` to enable.\n",
      "I0000 00:00:1744948317.673910   37986 cuda_dnn.cc:529] Loaded cuDNN version 90800\n"
     ]
    },
    {
     "name": "stdout",
     "output_type": "stream",
     "text": [
      "\u001b[1m  72/1327\u001b[0m \u001b[32m━\u001b[0m\u001b[37m━━━━━━━━━━━━━━━━━━━\u001b[0m \u001b[1m2s\u001b[0m 2ms/step - accuracy: 0.3567 - loss: 2.2912"
     ]
    },
    {
     "name": "stderr",
     "output_type": "stream",
     "text": [
      "I0000 00:00:1744948319.261987   37986 device_compiler.h:188] Compiled cluster using XLA!  This line is logged at most once for the lifetime of the process.\n"
     ]
    },
    {
     "name": "stdout",
     "output_type": "stream",
     "text": [
      "\u001b[1m1321/1327\u001b[0m \u001b[32m━━━━━━━━━━━━━━━━━━━\u001b[0m\u001b[37m━\u001b[0m \u001b[1m0s\u001b[0m 2ms/step - accuracy: 0.5360 - loss: 1.2680"
     ]
    },
    {
     "name": "stderr",
     "output_type": "stream",
     "text": [
      "2025-04-18 06:52:02.341937: W external/local_xla/xla/tsl/framework/bfc_allocator.cc:310] Allocator (GPU_0_bfc) ran out of memory trying to allocate 18.91GiB with freed_by_count=0. The caller indicates that this is not a failure, but this may mean that there could be performance gains if more memory were available.\n"
     ]
    },
    {
     "name": "stdout",
     "output_type": "stream",
     "text": [
      "\u001b[1m1327/1327\u001b[0m \u001b[32m━━━━━━━━━━━━━━━━━━━━\u001b[0m\u001b[37m\u001b[0m \u001b[1m7s\u001b[0m 4ms/step - accuracy: 0.5363 - loss: 1.2670 - val_accuracy: 0.6703 - val_loss: 0.8372\n",
      "Epoch 2/10\n",
      "\u001b[1m1327/1327\u001b[0m \u001b[32m━━━━━━━━━━━━━━━━━━━━\u001b[0m\u001b[37m\u001b[0m \u001b[1m3s\u001b[0m 2ms/step - accuracy: 0.6401 - loss: 0.8895 - val_accuracy: 0.7149 - val_loss: 0.7392\n",
      "Epoch 3/10\n",
      "\u001b[1m1327/1327\u001b[0m \u001b[32m━━━━━━━━━━━━━━━━━━━━\u001b[0m\u001b[37m\u001b[0m \u001b[1m3s\u001b[0m 2ms/step - accuracy: 0.6774 - loss: 0.7975 - val_accuracy: 0.7252 - val_loss: 0.7133\n",
      "Epoch 4/10\n",
      "\u001b[1m1327/1327\u001b[0m \u001b[32m━━━━━━━━━━━━━━━━━━━━\u001b[0m\u001b[37m\u001b[0m \u001b[1m7s\u001b[0m 5ms/step - accuracy: 0.7028 - loss: 0.7224 - val_accuracy: 0.7367 - val_loss: 0.6865\n",
      "Epoch 5/10\n",
      "\u001b[1m1327/1327\u001b[0m \u001b[32m━━━━━━━━━━━━━━━━━━━━\u001b[0m\u001b[37m\u001b[0m \u001b[1m3s\u001b[0m 2ms/step - accuracy: 0.7207 - loss: 0.6801 - val_accuracy: 0.7344 - val_loss: 0.6773\n",
      "Epoch 6/10\n",
      "\u001b[1m1327/1327\u001b[0m \u001b[32m━━━━━━━━━━━━━━━━━━━━\u001b[0m\u001b[37m\u001b[0m \u001b[1m3s\u001b[0m 2ms/step - accuracy: 0.7292 - loss: 0.6544 - val_accuracy: 0.7441 - val_loss: 0.6866\n",
      "Epoch 7/10\n",
      "\u001b[1m1327/1327\u001b[0m \u001b[32m━━━━━━━━━━━━━━━━━━━━\u001b[0m\u001b[37m\u001b[0m \u001b[1m3s\u001b[0m 2ms/step - accuracy: 0.7476 - loss: 0.6141 - val_accuracy: 0.7306 - val_loss: 0.7019\n",
      "Epoch 8/10\n",
      "\u001b[1m1327/1327\u001b[0m \u001b[32m━━━━━━━━━━━━━━━━━━━━\u001b[0m\u001b[37m\u001b[0m \u001b[1m3s\u001b[0m 2ms/step - accuracy: 0.7570 - loss: 0.5886 - val_accuracy: 0.7467 - val_loss: 0.7195\n",
      "Epoch 9/10\n",
      "\u001b[1m1327/1327\u001b[0m \u001b[32m━━━━━━━━━━━━━━━━━━━━\u001b[0m\u001b[37m\u001b[0m \u001b[1m3s\u001b[0m 2ms/step - accuracy: 0.7678 - loss: 0.5569 - val_accuracy: 0.7454 - val_loss: 0.7472\n",
      "Epoch 10/10\n",
      "\u001b[1m1327/1327\u001b[0m \u001b[32m━━━━━━━━━━━━━━━━━━━━\u001b[0m\u001b[37m\u001b[0m \u001b[1m3s\u001b[0m 2ms/step - accuracy: 0.7736 - loss: 0.5339 - val_accuracy: 0.7467 - val_loss: 0.6981\n"
     ]
    }
   ],
   "source": [
    "history = model.fit(\n",
    "    train_padded,\n",
    "    train_labels,\n",
    "    epochs=10,\n",
    "    validation_data=(test_padded, test_labels),\n",
    "    batch_size=32\n",
    ")"
   ]
  },
  {
   "cell_type": "markdown",
   "id": "dcec3802",
   "metadata": {},
   "source": [
    "Сохраняем модель"
   ]
  },
  {
   "cell_type": "code",
   "execution_count": 20,
   "id": "db610060",
   "metadata": {},
   "outputs": [
    {
     "name": "stderr",
     "output_type": "stream",
     "text": [
      "WARNING:absl:You are saving your model as an HDF5 file via `model.save()` or `keras.saving.save_model(model)`. This file format is considered legacy. We recommend using instead the native Keras format, e.g. `model.save('my_model.keras')` or `keras.saving.save_model(model, 'my_model.keras')`. \n"
     ]
    }
   ],
   "source": [
    "model.save(\"sentiment_model.h5\")"
   ]
  },
  {
   "cell_type": "markdown",
   "id": "d4a04140",
   "metadata": {},
   "source": [
    "Предсказывание"
   ]
  },
  {
   "cell_type": "code",
   "execution_count": null,
   "id": "2d24cc14",
   "metadata": {},
   "outputs": [],
   "source": [
    "def predict_sentiment(text):\n",
    "    text = str(text)\n",
    "    sequence = tokenizer.texts_to_sequences([text])\n",
    "    padded = pad_sequences(sequence, maxlen=max_length, padding=\"post\", truncating=\"post\")\n",
    "    prediction = model.predict(padded)\n",
    "    return label_encoder.inverse_transform([np.argmax(prediction)])[0]\n",
    "print(\"Введите текст (или 'exit' для выхода):\")\n",
    "while True:\n",
    "    text = input(\">>> \").strip()\n",
    "    if text.lower() == \"exit\":\n",
    "        break\n",
    "    \n",
    "    print(f\"Класс: {predict_sentiment(text)}\")"
   ]
  },
  {
   "cell_type": "markdown",
   "id": "d03f9c58",
   "metadata": {},
   "source": [
    "Случайные ошибочные примеры"
   ]
  },
  {
   "cell_type": "code",
   "execution_count": 22,
   "id": "c6d97168",
   "metadata": {},
   "outputs": [
    {
     "name": "stdout",
     "output_type": "stream",
     "text": [
      "\u001b[1m332/332\u001b[0m \u001b[32m━━━━━━━━━━━━━━━━━━━━\u001b[0m\u001b[37m\u001b[0m \u001b[1m1s\u001b[0m 2ms/step\n",
      "\n",
      "Найдено 2687 ошибок. Показываем 10 примеров:\n",
      "\n",
      "Пример 1:\n",
      "Текст: can anxiety because 24/7 confusion? confused, intrusive thoughts. I am afraid of dementia. I have chronic anxiety, panic, hipochondriac, etc Anxiety and confusion\n",
      "Истинная метка: Depression\n",
      "Предсказанная метка: Anxiety (уверенность: 0.93)\n",
      "--------------------------------------------------------------------------------\n",
      "Пример 2:\n",
      "Текст: Grad School Vent Anyone else in a Master's program and hate it? Nothing is ever explained, such complicated assignments, not to mention professors that are not invested in their students but care more about their research interests, a department that is so disorganized it is falling to pieces. Anyone else can relate? Thank god it is almost over, it has been one of the WORST experiences, most stressful, and its been so draining on my mental health.\n",
      "Истинная метка: Stress\n",
      "Предсказанная метка: Anxiety (уверенность: 0.35)\n",
      "--------------------------------------------------------------------------------\n",
      "Пример 3:\n",
      "Текст: Call me crazy but suicide seems rational at this point.. Hear me out... life in general sucks. We have to work the majority of our time in jobs we hate for people we don't care about to earn just about enough to live relatively comfortably. \n",
      "\n",
      "The majority of people are selfish assholes who only care about themselves. Me, you and 99.9% of people included whether we admit it or not.\n",
      "\n",
      "To me optimistic people seem mentally ill. I dint see the appeal in pretending that we're not all fucking miserable. (Also if I hear one more person talk about \"manifesting\" happiness I may be doing 25 to life)\n",
      "\n",
      "Tldr: if a movie sucks you would turn it off.\n",
      "Истинная метка: Depression\n",
      "Предсказанная метка: Suicidal (уверенность: 0.51)\n",
      "--------------------------------------------------------------------------------\n",
      "Пример 4:\n",
      "Текст: Today i'm going to get judged really hard and I struggle to keep it together atm... We're presenting our art pieces to a panel of really judgemental people. There are horror stories of them being rude to people that present their work, and judging them pretty harshly. I'm not sure how legit those stories are but I'm really scared. I'm worried I'll cry in front of everybody if I get criticized too hard.\n",
      "\n",
      "On top of that executive dysfunction absolutely wrecked me this semester and my art pieces are pretty fucking shit. It's not the case of \"an artist doesn't see how beautiful their art is\", it's objectively rushed because I couldn't work on it. \n",
      "\n",
      "I'm so scared :c\n",
      "Истинная метка: Personality disorder\n",
      "Предсказанная метка: Stress (уверенность: 0.29)\n",
      "--------------------------------------------------------------------------------\n",
      "Пример 5:\n",
      "Текст: you know kalau aku percaya semua benda kat internet aku probably ada anxiety adhd depression and some form of cancer\n",
      "Истинная метка: Depression\n",
      "Предсказанная метка: Anxiety (уверенность: 0.57)\n",
      "--------------------------------------------------------------------------------\n",
      "Пример 6:\n",
      "Текст: How do you guys make it through relentless suicidal thoughts? Nothing is going right in my life. I don't really have a reason to keep going, I don't have a support system or anyone that cares about me. I can't stop thinking about killing myself. I'm 75% sure I won't see 2020. \n",
      "\n",
      "I'm just trying to make it through each day and I'm getting to where I can't handle the never-ending thoughts of killing myself. I usually just try to distract myself with youtube or twitch, playing video games, music, just anything but it's not been working lately. Ever since I found out my family doesn't care about me at all I just can't keep the thoughts out for any length of time. I'm on meds, they're clearly not working, I see my doctor in 3 weeks. What do you guys do to get through the constant suicidal thoughts?\n",
      "Истинная метка: Bipolar\n",
      "Предсказанная метка: Suicidal (уверенность: 0.54)\n",
      "--------------------------------------------------------------------------------\n",
      "Пример 7:\n",
      "Текст: Because I woke up. I do not have the strength to permanently stop the waking up or the desire to do that to my parents and siblings. My life feels like it just exploded and I am not sure about my marriage and what is scaring me is what I am thinking. How my mind is working lately. I hate the person I have become. And I have been victimizing myself about all this when it was my responsibility to take care of myself and walk away from the fucking company that my husband chose over me. Over and over again. While at work using and abusing me for his company. But, I made the mistake of trusting, you know, my fucking husband.I know this is jumbled. I am all over the place, unstable, and need a babysitter because I am afraid of myself right now.I am lost, defeated, and completely hopeless. I wake up angry every day\n",
      "Истинная метка: Depression\n",
      "Предсказанная метка: Suicidal (уверенность: 0.52)\n",
      "--------------------------------------------------------------------------------\n",
      "Пример 8:\n",
      "Текст: Advice for AvPD college students? I'm a sophomore in college, and I've totally given up on making friends. My issue isn't with finding a group to \"fit in with\", but rather just surviving my classes. All my courses this semester have a large amount of group and partner work, and lately I've been skipping or running out of class to avoid it. \n",
      "\n",
      "Does anyone have any tips for getting through these interactions? I'm absolutely terrified of people my age, due to unpleasant experiences in elementary and middle school. I don't want this to ruin my grades.\n",
      "Истинная метка: Personality disorder\n",
      "Предсказанная метка: Bipolar (уверенность: 0.56)\n",
      "--------------------------------------------------------------------------------\n",
      "Пример 9:\n",
      "Текст: It's not that the current one isn't helping at all, but it would be nice if it helped _more_. She's got a lot of good literature and notes and it's helped some. But it's her words that it hasn't helped as much as she would like. Just wondering if anyone with any experience in talk therapy would share anything she may be able to talk about or focus on that could help a lot? This is a new experience for her, so she might just not know what to do or say during therapy to get anywhere if the therapist isn't guiding the discussion, and I wouldn't know what to suggest either.\n",
      "Истинная метка: Normal\n",
      "Предсказанная метка: Stress (уверенность: 0.29)\n",
      "--------------------------------------------------------------------------------\n",
      "Пример 10:\n",
      "Текст: Hi my name is Pierre I am a 22 year old guy from Houston and for about 7 years I have been really depressed. A lot of people close to me really do not know because I have always been the funny guy that makes people laugh. I have had a tuff coming up me and my mother had a very bad relationship coming up I am not really close to my family but I love them though. I try to keep a smile on everyone is face if I can but at the end of the day I am somewhere questioning why am I alive I have thought about suicide multiple times but I have a niece and nephew that I could not do that too my relationship with my gf is so wierd I really like her but i know deep down she does not care about me its shows but I stay with her I am currently trying to get a car so I can move around without having to ask someone who dislikes me I am actually crying right now my heart is so heavy I can never keep anyone happy I understand men are not supposed to cry but man I just want to be happy and make others happy but it seems I cannot I pray but not as much as I should know I will not get a reply I am not to much worried but I needed to let something is off my chest it hurts sleeping in the bed with someone who is obviously cheating on you and is not interested but before I stayed with her I was homeless and just graduated she knows I do not have anywhere else to live so she treats me like shit because she know I do not have anywhere to go I am so tired of being tired no matter what I do lately the tears have been uncontrollable I need help I am tired I just want to be happy man with peace of mind please God I am so ready to end it all I cannot continue like this Help me\n",
      "Истинная метка: Depression\n",
      "Предсказанная метка: Suicidal (уверенность: 0.66)\n",
      "--------------------------------------------------------------------------------\n",
      "\n",
      "Общая точность на тестовой выборке: 74.67%\n",
      "Примеры ошибок показывают, где модель испытывает наибольшие трудности\n"
     ]
    }
   ],
   "source": [
    "# Получаем предсказания для тестовой выборки\n",
    "test_pred = model.predict(test_padded)\n",
    "test_pred_classes = np.argmax(test_pred, axis=1)\n",
    "\n",
    "# Находим индексы ошибочных предсказаний\n",
    "wrong_indices = np.where(test_pred_classes != test_labels)[0]\n",
    "\n",
    "# Выбираем 10 случайных ошибок (или меньше, если ошибок мало)\n",
    "num_errors_to_show = min(10, len(wrong_indices))\n",
    "selected_errors = np.random.choice(wrong_indices, num_errors_to_show, replace=False)\n",
    "\n",
    "# Выводим ошибочные примеры с деталями\n",
    "print(f\"\\nНайдено {len(wrong_indices)} ошибок. Показываем {num_errors_to_show} примеров:\\n\")\n",
    "\n",
    "for i, idx in enumerate(selected_errors):\n",
    "    original_text = test_texts[idx]\n",
    "    true_label = label_encoder.inverse_transform([test_labels[idx]])[0]\n",
    "    pred_label = label_encoder.inverse_transform([test_pred_classes[idx]])[0]\n",
    "    confidence = np.max(test_pred[idx])\n",
    "    \n",
    "    print(f\"Пример {i+1}:\")\n",
    "    print(f\"Текст: {original_text}\")\n",
    "    print(f\"Истинная метка: {true_label}\")\n",
    "    print(f\"Предсказанная метка: {pred_label} (уверенность: {confidence:.2f})\")\n",
    "    print(\"-\" * 80)\n",
    "\n",
    "# Дополнительная статистика\n",
    "accuracy = 1 - len(wrong_indices)/len(test_labels)\n",
    "print(f\"\\nОбщая точность на тестовой выборке: {accuracy:.2%}\")\n",
    "print(f\"Примеры ошибок показывают, где модель испытывает наибольшие трудности\")"
   ]
  }
 ],
 "metadata": {
  "kernelspec": {
   "display_name": "Python 3",
   "language": "python",
   "name": "python3"
  },
  "language_info": {
   "codemirror_mode": {
    "name": "ipython",
    "version": 3
   },
   "file_extension": ".py",
   "mimetype": "text/x-python",
   "name": "python",
   "nbconvert_exporter": "python",
   "pygments_lexer": "ipython3",
   "version": "3.10.12"
  }
 },
 "nbformat": 4,
 "nbformat_minor": 5
}
